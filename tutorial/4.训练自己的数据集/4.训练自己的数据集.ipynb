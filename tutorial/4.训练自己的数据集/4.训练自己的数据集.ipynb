{
 "cells": [
  {
   "cell_type": "code",
   "execution_count": null,
   "metadata": {},
   "outputs": [],
   "source": [
    "from detecting.build.fasterrcnn import FasterRCNNModel\n",
    "from detecting.datasets.datasets import load_tf_dataset\n",
    "from detecting.config import cfg"
   ]
  },
  {
   "cell_type": "code",
   "execution_count": null,
   "metadata": {},
   "outputs": [],
   "source": [
    "# 与配置文件中的配置合并\n",
    "cfg.merge_from_file('train.yml')\n",
    "# 载入数据集tf_dataset\n",
    "tf_dataset = load_tf_dataset(cfg)\n",
    "# 载入模型 \n",
    "model = FasterRCNNModel(cfg)\n",
    "# 训练模型\n",
    "model.fit(tf_dataset)"
   ]
  },
  {
   "cell_type": "code",
   "execution_count": null,
   "metadata": {},
   "outputs": [],
   "source": []
  }
 ],
 "metadata": {
  "kernelspec": {
   "display_name": "Python 3",
   "language": "python",
   "name": "python3"
  },
  "language_info": {
   "codemirror_mode": {
    "name": "ipython",
    "version": 3
   },
   "file_extension": ".py",
   "mimetype": "text/x-python",
   "name": "python",
   "nbconvert_exporter": "python",
   "pygments_lexer": "ipython3",
   "version": "3.6.7"
  }
 },
 "nbformat": 4,
 "nbformat_minor": 2
}
